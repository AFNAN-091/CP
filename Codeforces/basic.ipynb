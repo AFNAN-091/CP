{
 "cells": [
  {
   "cell_type": "code",
   "execution_count": 3,
   "metadata": {},
   "outputs": [
    {
     "name": "stdout",
     "output_type": "stream",
     "text": [
      "hello world\n",
      "6\n"
     ]
    }
   ],
   "source": [
    "print(\"hello world\")\n",
    "x = 6\n",
    "print(x)"
   ]
  },
  {
   "cell_type": "code",
   "execution_count": 4,
   "metadata": {},
   "outputs": [
    {
     "name": "stdout",
     "output_type": "stream",
     "text": [
      "{'name': 'afnan', 'email': 'afnan@gmail.com', 'contact': '12344'}\n",
      "3\n",
      "<class 'dict'>\n"
     ]
    }
   ],
   "source": [
    "#collection\n",
    "#dictionary\n",
    "\n",
    "\n",
    "#store information as key value pairs in dictionary\n",
    "#{},mutable\n",
    "#keys must be immutable (string tuple)\n",
    "#numpy,list set run time a change hoy so use kora jabe na dictionary te\n",
    "\n",
    "\n",
    "dic = {'name' : 'afnan', 'email' : 'afnan@gmail.com', 'contact': '12344'}\n",
    "print(dic)\n",
    "print(len(dic))\n",
    "print(type(dic))\n",
    "\n"
   ]
  }
 ],
 "metadata": {
  "kernelspec": {
   "display_name": "Python 3.10.8 64-bit",
   "language": "python",
   "name": "python3"
  },
  "language_info": {
   "codemirror_mode": {
    "name": "ipython",
    "version": 3
   },
   "file_extension": ".py",
   "mimetype": "text/x-python",
   "name": "python",
   "nbconvert_exporter": "python",
   "pygments_lexer": "ipython3",
   "version": "3.10.8"
  },
  "orig_nbformat": 4,
  "vscode": {
   "interpreter": {
    "hash": "369f2c481f4da34e4445cda3fffd2e751bd1c4d706f27375911949ba6bb62e1c"
   }
  }
 },
 "nbformat": 4,
 "nbformat_minor": 2
}
